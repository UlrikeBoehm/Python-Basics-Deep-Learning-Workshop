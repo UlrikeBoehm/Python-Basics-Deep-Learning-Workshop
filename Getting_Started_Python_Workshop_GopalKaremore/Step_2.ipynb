{
 "cells": [
  {
   "cell_type": "markdown",
   "metadata": {},
   "source": [
    "# <font color='red'> My Calculator : First Python Application"
   ]
  },
  {
   "cell_type": "code",
   "execution_count": 2,
   "metadata": {},
   "outputs": [
    {
     "name": "stdout",
     "output_type": "stream",
     "text": [
      "Please enter first number 4\n",
      "Please enter second number 6\n"
     ]
    }
   ],
   "source": [
    "## ASK USER TO GIVE ANY TWO VALUES (USE INPUT FUNCTION)\n",
    "## STORE THOSE VALUES TO TWO VARBLES (CONVERT VALUES TO INTEGER)\n",
    "## USE FOLLOWING (NUMBERS) TO EXECUTE PARTICULAR ARITHMATIC OPERATIONS\n",
    "## ASK USER TO GIVE NUMBER WITH RESPECT TO OPERATION HE WOULD LIKE TO PERFORM\n",
    "## CREATE FUNCTION FOR EACH OPERATIONS\n",
    "## CALL PARTICULAR FUNCTION THAT USER ASKED FOR ARITHMATIC OPERATION USING if CONDITION\n",
    "\n",
    "\n",
    "#1. ADD\n",
    "#2. SUBTRACT\n",
    "#3. MULTIPLY\n",
    "#4. DIVIDE\n",
    "\n"
   ]
  }
 ],
 "metadata": {
  "kernelspec": {
   "display_name": "Python 3",
   "language": "python",
   "name": "python3"
  },
  "language_info": {
   "codemirror_mode": {
    "name": "ipython",
    "version": 3
   },
   "file_extension": ".py",
   "mimetype": "text/x-python",
   "name": "python",
   "nbconvert_exporter": "python",
   "pygments_lexer": "ipython3",
   "version": "3.6.4"
  }
 },
 "nbformat": 4,
 "nbformat_minor": 2
}
